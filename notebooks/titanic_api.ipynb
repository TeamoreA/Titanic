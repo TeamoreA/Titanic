{
 "cells": [
  {
   "cell_type": "code",
   "execution_count": 2,
   "metadata": {},
   "outputs": [],
   "source": [
    "import os\n",
    "titanic_api\n",
    "_s\n",
    "cript_file = os.path.join(os.path.pardir, 'src', 'models', 'titanic_api.py')"
   ]
  },
  {
   "cell_type": "code",
   "execution_count": 6,
   "metadata": {},
   "outputs": [
    {
     "name": "stdout",
     "output_type": "stream",
     "text": [
      "Overwriting ../src/models/titanic_api.py\n"
     ]
    }
   ],
   "source": [
    "%%writefile $titanic_api_script_file\n",
    "\n",
    "from flask import Flask, request\n",
    "import pandas as pd\n",
    "import numpy as np\n",
    "import json\n",
    "import pickle\n",
    "import os\n",
    "\n",
    "app = Flask(__name__)\n",
    "\n",
    "model_path = os.path.join(os.path.pardir, os.path.pardir, 'models')\n",
    "model_file_path = os.path.join(model_path, 'lf_model.pkl')\n",
    "scaler_file_path = os.path.join(model_path, 'lf_scaler.pkl')\n",
    "with open(model_file_path, 'rb') as model_file:\n",
    "    model = pickle.load(model_file)\n",
    "with open(scaler_file_path, 'rb') as scaler_file:\n",
    "    scaler = pickle.load(scaler_file)\n",
    "    \n",
    "columns = [\n",
    "    u'Age', u'Fare', u'FamilySize', u'IsMother', u'IsMale', u'Deck_A', u'Deck_B'\\\n",
    "    u'Deck_C', u'Deck_D', u'Deck_E', u'Deck_F', u'Deck_G', u'Deck_Z', u'Pclass_1',\\\n",
    "    u'Pclass_2', u'Pclass_3', u'Title_Lady', u'Title_Master', u'Title_Miss', u'Title_Mr',\\\n",
    "    u'Title_Mrs', u'Title_Officer', u'Title_Sir', u'Fare_Bin_very_low', u'Fare_Bin_low',\\\n",
    "    u'Fare_Bin_very_high', u'Fare_Bin_high', u'Embarked_C', u'Embarked_Q', u'Embarked_S',\\\n",
    "    u'AgeState_Adult', u'Agestate_Child'\n",
    "]\n",
    "\n",
    "@app.route('/api', methods=['POST'])\n",
    "def make_prediction():\n",
    "    data = json.dumps(request.get_json(force=True))\n",
    "    df = pd.read_json(data)\n",
    "    passenger_ids = df['PassengerId'].ravel()\n",
    "    actuals = df['Survived'].ravel()\n",
    "    X = df.columns.to_numpy(dtype='float')\n",
    "    X_scaled = scaler.transform(X)\n",
    "    predictions = model.predict(X_scaled)\n",
    "    res = pd.DataFrame({'PassengerId': passenger_ids, 'Predicted': predictions, 'Actual': actuals})\n",
    "    return res.to_json()\n",
    "\n",
    "if __name__ == \"__main__\":\n",
    "    app.run(port=10001, debug=True)\n",
    "    "
   ]
  },
  {
   "cell_type": "code",
   "execution_count": null,
   "metadata": {},
   "outputs": [],
   "source": []
  }
 ],
 "metadata": {
  "kernelspec": {
   "display_name": "Python 3",
   "language": "python",
   "name": "python3"
  },
  "language_info": {
   "codemirror_mode": {
    "name": "ipython",
    "version": 3
   },
   "file_extension": ".py",
   "mimetype": "text/x-python",
   "name": "python",
   "nbconvert_exporter": "python",
   "pygments_lexer": "ipython3",
   "version": "3.7.6"
  }
 },
 "nbformat": 4,
 "nbformat_minor": 4
}
